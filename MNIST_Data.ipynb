{
 "cells": [
  {
   "cell_type": "code",
   "execution_count": 1,
   "metadata": {},
   "outputs": [
    {
     "name": "stderr",
     "output_type": "stream",
     "text": [
      "/anaconda3/lib/python3.6/site-packages/h5py/__init__.py:34: FutureWarning: Conversion of the second argument of issubdtype from `float` to `np.floating` is deprecated. In future, it will be treated as `np.float64 == np.dtype(float).type`.\n",
      "  from ._conv import register_converters as _register_converters\n"
     ]
    }
   ],
   "source": [
    "from __future__ import print_function\n",
    "\n",
    "import tensorflow as tf\n",
    "import numpy\n",
    "\n",
    "import gzip"
   ]
  },
  {
   "cell_type": "code",
   "execution_count": 2,
   "metadata": {
    "collapsed": true
   },
   "outputs": [],
   "source": [
    "with open('mnist/t10k-images-idx3-ubyte.gz', 'rb') as f:\n",
    "\n",
    "    def _read32(bytestream):\n",
    "        dt = numpy.dtype(numpy.uint32).newbyteorder('>')\n",
    "        return numpy.frombuffer(bytestream.read(4), dtype=dt)[0]\n",
    "\n",
    "    with gzip.GzipFile(fileobj=f) as bytestream:\n",
    "        magic = _read32(bytestream)\n",
    "        num_images = _read32(bytestream)\n",
    "        rows = _read32(bytestream)\n",
    "        cols = _read32(bytestream)\n",
    "        buf = bytestream.read(rows * cols * num_images)\n",
    "        data = numpy.frombuffer(buf, dtype=numpy.uint8)\n",
    "        data = data.reshape(num_images, rows, cols, 1)"
   ]
  },
  {
   "cell_type": "code",
   "execution_count": 3,
   "metadata": {},
   "outputs": [
    {
     "name": "stdout",
     "output_type": "stream",
     "text": [
      "28\n"
     ]
    }
   ],
   "source": [
    "print(len(data[0]))"
   ]
  },
  {
   "cell_type": "code",
   "execution_count": 4,
   "metadata": {},
   "outputs": [
    {
     "name": "stdout",
     "output_type": "stream",
     "text": [
      ". . . . . . . . . . . . . . . . . . . . . . . . . . . .  \n",
      ". . . . . . . . . . . . . . . . . . . . . . . . . . . .  \n",
      ". . . . . . . . . . . . . . . . . . . . . . . . . . . .  \n",
      ". . . . . . . . . . . . . . . . . . . . . . . . . . . .  \n",
      ". . . . . . . . . . . . . . . . . . . . . . . . . . . .  \n",
      ". . . . . . . . . . . . . . . . . . . . . . . . . . . .  \n",
      ". . . . . . . . . . . . . . . . . . . . . . . . . . . .  \n",
      ". . . . . . X X X X X X . . . . . . . . . . . . . . . .  \n",
      ". . . . . . X X X X X X X X X X X X X X X X . . . . . .  \n",
      ". . . . . . X X X X X X X X X X X X X X X X . . . . . .  \n",
      ". . . . . . . . . . . X X X X X X X X X X X . . . . . .  \n",
      ". . . . . . . . . . . . . . . . . . X X X X . . . . . .  \n",
      ". . . . . . . . . . . . . . . . . X X X X . . . . . . .  \n",
      ". . . . . . . . . . . . . . . . . X X X X . . . . . . .  \n",
      ". . . . . . . . . . . . . . . . X X X X . . . . . . . .  \n",
      ". . . . . . . . . . . . . . . . X X X X . . . . . . . .  \n",
      ". . . . . . . . . . . . . . . X X X X . . . . . . . . .  \n",
      ". . . . . . . . . . . . . . . X X X . . . . . . . . . .  \n",
      ". . . . . . . . . . . . . . X X X X . . . . . . . . . .  \n",
      ". . . . . . . . . . . . . X X X X . . . . . . . . . . .  \n",
      ". . . . . . . . . . . . X X X X X . . . . . . . . . . .  \n",
      ". . . . . . . . . . . . X X X X . . . . . . . . . . . .  \n",
      ". . . . . . . . . . . X X X X X . . . . . . . . . . . .  \n",
      ". . . . . . . . . . . X X X X . . . . . . . . . . . . .  \n",
      ". . . . . . . . . . X X X X X . . . . . . . . . . . . .  \n",
      ". . . . . . . . . . X X X X X . . . . . . . . . . . . .  \n",
      ". . . . . . . . . . X X X X . . . . . . . . . . . . . .  \n",
      ". . . . . . . . . . . . . . . . . . . . . . . . . . . .  \n"
     ]
    }
   ],
   "source": [
    "for y in data[0]:\n",
    "    for x in y:\n",
    "        if x > 0:\n",
    "            print(\"X\", end=' ')\n",
    "        else:\n",
    "            print(\".\", end=' ')\n",
    "    print(\" \")"
   ]
  },
  {
   "cell_type": "code",
   "execution_count": null,
   "metadata": {
    "collapsed": true
   },
   "outputs": [],
   "source": []
  }
 ],
 "metadata": {
  "kernelspec": {
   "display_name": "Python 3",
   "language": "python",
   "name": "python3"
  },
  "language_info": {
   "codemirror_mode": {
    "name": "ipython",
    "version": 3
   },
   "file_extension": ".py",
   "mimetype": "text/x-python",
   "name": "python",
   "nbconvert_exporter": "python",
   "pygments_lexer": "ipython3",
   "version": "3.6.3"
  }
 },
 "nbformat": 4,
 "nbformat_minor": 2
}
